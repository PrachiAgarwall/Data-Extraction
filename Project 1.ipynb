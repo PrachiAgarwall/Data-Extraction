{
 "cells": [
  {
   "cell_type": "code",
   "execution_count": 1,
   "id": "ffa8ef45",
   "metadata": {},
   "outputs": [],
   "source": [
    "import requests\n",
    "import json \n",
    "import pandas as pd"
   ]
  },
  {
   "cell_type": "code",
   "execution_count": 3,
   "id": "c59f77fe",
   "metadata": {},
   "outputs": [],
   "source": [
    "\n",
    "r = requests.get('https://poetrydb.org/author')"
   ]
  },
  {
   "cell_type": "code",
   "execution_count": 4,
   "id": "e0f92b59",
   "metadata": {},
   "outputs": [],
   "source": [
    "result = json.loads(r.text)\n",
    "list1 = result['authors']"
   ]
  },
  {
   "cell_type": "code",
   "execution_count": 5,
   "id": "7c53027b",
   "metadata": {},
   "outputs": [
    {
     "data": {
      "text/plain": [
       "129"
      ]
     },
     "execution_count": 5,
     "metadata": {},
     "output_type": "execute_result"
    }
   ],
   "source": [
    "Auth_url = []\n",
    "for auth in list1:\n",
    "    url = 'https://poetrydb.org/author/' + '{}'.format(auth).replace(' ', '%20') + '/author,title,linecount'\n",
    "    Auth_url.append(url)\n",
    "len(Auth_url)\n",
    "\n"
   ]
  },
  {
   "cell_type": "code",
   "execution_count": 8,
   "id": "a01db862",
   "metadata": {},
   "outputs": [
    {
     "data": {
      "text/html": [
       "<div>\n",
       "<style scoped>\n",
       "    .dataframe tbody tr th:only-of-type {\n",
       "        vertical-align: middle;\n",
       "    }\n",
       "\n",
       "    .dataframe tbody tr th {\n",
       "        vertical-align: top;\n",
       "    }\n",
       "\n",
       "    .dataframe thead th {\n",
       "        text-align: right;\n",
       "    }\n",
       "</style>\n",
       "<table border=\"1\" class=\"dataframe\">\n",
       "  <thead>\n",
       "    <tr style=\"text-align: right;\">\n",
       "      <th></th>\n",
       "      <th>title</th>\n",
       "      <th>author</th>\n",
       "      <th>linecount</th>\n",
       "    </tr>\n",
       "  </thead>\n",
       "  <tbody>\n",
       "    <tr>\n",
       "      <th>0</th>\n",
       "      <td>A Song of Autumn</td>\n",
       "      <td>Adam Lindsay Gordon</td>\n",
       "      <td>16</td>\n",
       "    </tr>\n",
       "    <tr>\n",
       "      <th>1</th>\n",
       "      <td>An Exile's Farewell</td>\n",
       "      <td>Adam Lindsay Gordon</td>\n",
       "      <td>56</td>\n",
       "    </tr>\n",
       "    <tr>\n",
       "      <th>2</th>\n",
       "      <td>I Have A Rendezvous With Death</td>\n",
       "      <td>Alan Seeger</td>\n",
       "      <td>24</td>\n",
       "    </tr>\n",
       "    <tr>\n",
       "      <th>3</th>\n",
       "      <td>Ode in Memory of the American Volunteers Falle...</td>\n",
       "      <td>Alan Seeger</td>\n",
       "      <td>104</td>\n",
       "    </tr>\n",
       "    <tr>\n",
       "      <th>4</th>\n",
       "      <td>Fragments</td>\n",
       "      <td>Alan Seeger</td>\n",
       "      <td>83</td>\n",
       "    </tr>\n",
       "    <tr>\n",
       "      <th>...</th>\n",
       "      <td>...</td>\n",
       "      <td>...</td>\n",
       "      <td>...</td>\n",
       "    </tr>\n",
       "    <tr>\n",
       "      <th>3157</th>\n",
       "      <td>Beautiful Balmoral</td>\n",
       "      <td>William Topaz McGonagall</td>\n",
       "      <td>24</td>\n",
       "    </tr>\n",
       "    <tr>\n",
       "      <th>3158</th>\n",
       "      <td>The Daguerreotype</td>\n",
       "      <td>William Vaughn Moody</td>\n",
       "      <td>212</td>\n",
       "    </tr>\n",
       "    <tr>\n",
       "      <th>3159</th>\n",
       "      <td>On a Soldier Fallen in the Philippines</td>\n",
       "      <td>William Vaughn Moody</td>\n",
       "      <td>30</td>\n",
       "    </tr>\n",
       "    <tr>\n",
       "      <th>3160</th>\n",
       "      <td>I Wandered Lonely As A Cloud</td>\n",
       "      <td>William Wordsworth</td>\n",
       "      <td>24</td>\n",
       "    </tr>\n",
       "    <tr>\n",
       "      <th>3161</th>\n",
       "      <td>Lines Written In Early Spring</td>\n",
       "      <td>William Wordsworth</td>\n",
       "      <td>24</td>\n",
       "    </tr>\n",
       "  </tbody>\n",
       "</table>\n",
       "<p>3162 rows × 3 columns</p>\n",
       "</div>"
      ],
      "text/plain": [
       "                                                  title  \\\n",
       "0                                      A Song of Autumn   \n",
       "1                                   An Exile's Farewell   \n",
       "2                        I Have A Rendezvous With Death   \n",
       "3     Ode in Memory of the American Volunteers Falle...   \n",
       "4                                             Fragments   \n",
       "...                                                 ...   \n",
       "3157                                 Beautiful Balmoral   \n",
       "3158                                  The Daguerreotype   \n",
       "3159             On a Soldier Fallen in the Philippines   \n",
       "3160                       I Wandered Lonely As A Cloud   \n",
       "3161                      Lines Written In Early Spring   \n",
       "\n",
       "                        author linecount  \n",
       "0          Adam Lindsay Gordon        16  \n",
       "1          Adam Lindsay Gordon        56  \n",
       "2                  Alan Seeger        24  \n",
       "3                  Alan Seeger       104  \n",
       "4                  Alan Seeger        83  \n",
       "...                        ...       ...  \n",
       "3157  William Topaz McGonagall        24  \n",
       "3158      William Vaughn Moody       212  \n",
       "3159      William Vaughn Moody        30  \n",
       "3160        William Wordsworth        24  \n",
       "3161        William Wordsworth        24  \n",
       "\n",
       "[3162 rows x 3 columns]"
      ]
     },
     "execution_count": 8,
     "metadata": {},
     "output_type": "execute_result"
    }
   ],
   "source": [
    "list2 = []\n",
    "for i in range(0,129):\n",
    "    Au_dict = Auth_url[i]\n",
    "    m = requests.get(Au_dict)\n",
    "    results1 = json.loads(m.text)\n",
    "    list2.extend(results1)\n",
    "pd.DataFrame(list2)\n",
    "    "
   ]
  },
  {
   "cell_type": "code",
   "execution_count": 2,
   "id": "70138a62",
   "metadata": {},
   "outputs": [
    {
     "name": "stdout",
     "output_type": "stream",
     "text": [
      "\f",
      "\n"
     ]
    }
   ],
   "source": []
  },
  {
   "cell_type": "code",
   "execution_count": 1,
   "id": "1ef982d4",
   "metadata": {},
   "outputs": [
    {
     "name": "stdout",
     "output_type": "stream",
     "text": [
      "\f",
      "\n"
     ]
    }
   ],
   "source": []
  },
  {
   "cell_type": "code",
   "execution_count": null,
   "id": "0b451f5d",
   "metadata": {},
   "outputs": [],
   "source": []
  }
 ],
 "metadata": {
  "kernelspec": {
   "display_name": "Python 3 (ipykernel)",
   "language": "python",
   "name": "python3"
  },
  "language_info": {
   "codemirror_mode": {
    "name": "ipython",
    "version": 3
   },
   "file_extension": ".py",
   "mimetype": "text/x-python",
   "name": "python",
   "nbconvert_exporter": "python",
   "pygments_lexer": "ipython3",
   "version": "3.10.5"
  }
 },
 "nbformat": 4,
 "nbformat_minor": 5
}
