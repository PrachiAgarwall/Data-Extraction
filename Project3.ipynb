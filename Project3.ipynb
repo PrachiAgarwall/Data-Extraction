{
 "cells": [
  {
   "cell_type": "code",
   "execution_count": 70,
   "id": "6ce90a91",
   "metadata": {},
   "outputs": [],
   "source": [
    "import requests \n",
    "import pandas as pd \n",
    "import json \n",
    "from bs4 import BeautifulSoup"
   ]
  },
  {
   "cell_type": "code",
   "execution_count": 71,
   "id": "497729d3",
   "metadata": {},
   "outputs": [
    {
     "data": {
      "text/plain": [
       "115"
      ]
     },
     "execution_count": 71,
     "metadata": {},
     "output_type": "execute_result"
    }
   ],
   "source": [
    "professor_list = []\n",
    "list_page = [1,2,3]\n",
    "for page in list_page:\n",
    "    url = \"https://hls.harvard.edu/faculty/?page={}&faculty_type=HLS%20Professors\".format(page)\n",
    "    Professor_data = requests.get(url).text\n",
    "    soup = BeautifulSoup(Professor_data,\"html.parser\")\n",
    "    name = soup.find_all('h3', {\"class\" :\"faculty-feed__item-title\"})\n",
    "    professor_list.extend(name)\n",
    "len(professor_list)"
   ]
  },
  {
   "cell_type": "code",
   "execution_count": 72,
   "id": "187c67e0",
   "metadata": {},
   "outputs": [],
   "source": [
    "Final_prof_list = []\n",
    "for elem in professor_list:\n",
    "    Final_prof_list.append(elem.text)\n",
    "Final_prof_list1 = Final_prof_list\n"
   ]
  },
  {
   "cell_type": "code",
   "execution_count": 24,
   "id": "a34fe3c1",
   "metadata": {},
   "outputs": [
    {
     "name": "stdout",
     "output_type": "stream",
     "text": [
      "https://hls.harvard.edu/faculty/William-P.-Alford/\n",
      "https://hls.harvard.edu/faculty/Sabrineh-Ardalan/\n",
      "https://hls.harvard.edu/faculty/Oren-Bar-Gill/\n",
      "https://hls.harvard.edu/faculty/Christopher-T.-Bavitz/\n",
      "https://hls.harvard.edu/faculty/Lucian-A.-Bebchuk/\n",
      "https://hls.harvard.edu/faculty/Yochai-Benkler/\n",
      "https://hls.harvard.edu/faculty/Sharon-Block/\n",
      "https://hls.harvard.edu/faculty/Gabriella-Blum/\n",
      "https://hls.harvard.edu/faculty/Nikolas-Bowie/\n",
      "https://hls.harvard.edu/faculty/Maureen-Brady/\n",
      "https://hls.harvard.edu/faculty/Thomas-J.-Brennan/\n",
      "https://hls.harvard.edu/faculty/Scott-Brewer/\n",
      "https://hls.harvard.edu/faculty/Stephen-Breyer/\n",
      "https://hls.harvard.edu/faculty/Emily-M.-Broad-Leib/\n",
      "https://hls.harvard.edu/faculty/Tomiko-Brown-Nagin/\n",
      "https://hls.harvard.edu/faculty/Esme-Caramello/\n",
      "https://hls.harvard.edu/faculty/Guy-Uriel-Charles/\n",
      "https://hls.harvard.edu/faculty/John-C.-Coates/\n",
      "https://hls.harvard.edu/faculty/Alma-Cohen/\n",
      "https://hls.harvard.edu/faculty/I.-Glenn-Cohen/\n",
      "https://hls.harvard.edu/faculty/Susan-P.-Crawford/\n",
      "https://hls.harvard.edu/faculty/Andrew-M.-Crespo/\n",
      "https://hls.harvard.edu/faculty/Mihir-A.-Desai/\n",
      "https://hls.harvard.edu/faculty/Christine-A.-Desan/\n",
      "https://hls.harvard.edu/faculty/Ryan-D.-Doerfler/\n",
      "https://hls.harvard.edu/faculty/Charles-Donahue/\n",
      "https://hls.harvard.edu/faculty/Benjamin-Eidelson/\n",
      "https://hls.harvard.edu/faculty/Einer-R.-Elhauge/\n",
      "https://hls.harvard.edu/faculty/Jared-Ellias/\n",
      "https://hls.harvard.edu/faculty/Richard-H.-Fallon/\n",
      "https://hls.harvard.edu/faculty/Susan-H.-Farbstein/\n",
      "https://hls.harvard.edu/faculty/Noah-R.-Feldman/\n",
      "https://hls.harvard.edu/faculty/Allen-Ferrell/\n",
      "https://hls.harvard.edu/faculty/Martha-A.-Field/\n",
      "https://hls.harvard.edu/faculty/William-W.-Fisher/\n",
      "https://hls.harvard.edu/faculty/Jody-Freeman/\n",
      "https://hls.harvard.edu/faculty/Charles-Fried/\n",
      "https://hls.harvard.edu/faculty/Jesse-M.-Fried/\n",
      "https://hls.harvard.edu/faculty/Jacob-Gersen/\n",
      "https://hls.harvard.edu/faculty/Jeannie-Suk-Gersen/\n",
      "https://hls.harvard.edu/faculty/Tyler-Giannini/\n",
      "https://hls.harvard.edu/faculty/John-Goldberg/\n",
      "https://hls.harvard.edu/faculty/Jack-L.-Goldsmith/\n",
      "https://hls.harvard.edu/faculty/Annette-Gordon-Reed/\n",
      "https://hls.harvard.edu/faculty/Michael-Gregory/\n",
      "https://hls.harvard.edu/faculty/D.-James-Greiner/\n",
      "https://hls.harvard.edu/faculty/Janet-E.-Halley/\n",
      "https://hls.harvard.edu/faculty/Jon-D.-Hanson/\n",
      "https://hls.harvard.edu/faculty/Sheila-Heen/\n",
      "https://hls.harvard.edu/faculty/Howell-E.-Jackson/\n",
      "https://hls.harvard.edu/faculty/Vicki-C.-Jackson/\n",
      "https://hls.harvard.edu/faculty/Alan-Jenkins/\n",
      "https://hls.harvard.edu/faculty/Elizabeth-Papp-Kamali/\n",
      "https://hls.harvard.edu/faculty/Louis-Kaplow/\n",
      "https://hls.harvard.edu/faculty/David-W.-Kennedy/\n",
      "https://hls.harvard.edu/faculty/Randall-L.-Kennedy/\n",
      "https://hls.harvard.edu/faculty/Michael-J.-Klarman/\n",
      "https://hls.harvard.edu/faculty/Reinier-H.-Kraakman/\n",
      "https://hls.harvard.edu/faculty/Adriaan-M.-Lanni/\n",
      "https://hls.harvard.edu/faculty/Eloise-Lawrence/\n",
      "https://hls.harvard.edu/faculty/Richard-J.-Lazarus/\n",
      "https://hls.harvard.edu/faculty/Lawrence-Lessig/\n",
      "https://hls.harvard.edu/faculty/Christopher-Lewis/\n",
      "https://hls.harvard.edu/faculty/Anna-Lvovsky/\n",
      "https://hls.harvard.edu/faculty/Kenneth-W.-Mack/\n",
      "https://hls.harvard.edu/faculty/Bruce-H.-Mann/\n",
      "https://hls.harvard.edu/faculty/John-F.-Manning/\n",
      "https://hls.harvard.edu/faculty/Martha-L.-Minow/\n",
      "https://hls.harvard.edu/faculty/Robert-H.-Mnookin/\n",
      "https://hls.harvard.edu/faculty/Naz-K.-Modirzadeh/\n",
      "https://hls.harvard.edu/faculty/Daniel-Nagin/\n",
      "https://hls.harvard.edu/faculty/Alexandra-Natapoff/\n",
      "https://hls.harvard.edu/faculty/Charles-R.-Nesson/\n",
      "https://hls.harvard.edu/faculty/Gerald-L.-Neuman/\n",
      "https://hls.harvard.edu/faculty/Ruth-L.-Okediji/\n",
      "https://hls.harvard.edu/faculty/Richard-D.-Parker/\n",
      "https://hls.harvard.edu/faculty/Samantha-Power/\n",
      "https://hls.harvard.edu/faculty/Brian-K.-Price/\n",
      "https://hls.harvard.edu/faculty/Intisar-A.-Rabb/\n",
      "https://hls.harvard.edu/faculty/Todd-D.-Rakoff/\n",
      "https://hls.harvard.edu/faculty/J.-Mark-Ramseyer/\n",
      "https://hls.harvard.edu/faculty/Daphna-Renan/\n",
      "https://hls.harvard.edu/faculty/Mark-J.-Roe/\n",
      "https://hls.harvard.edu/faculty/William-B.-Rubenstein/\n",
      "https://hls.harvard.edu/faculty/Benjamin-I.-Sachs/\n",
      "https://hls.harvard.edu/faculty/Stephen-Sachs/\n",
      "https://hls.harvard.edu/faculty/Lewis-D.-Sargentich/\n",
      "https://hls.harvard.edu/faculty/Larry-Schwartztol/\n",
      "https://hls.harvard.edu/faculty/Steven-M.-Shavell/\n",
      "https://hls.harvard.edu/faculty/Joseph-W.-Singer/\n",
      "https://hls.harvard.edu/faculty/Robert-H.-Sitkoff/\n",
      "https://hls.harvard.edu/faculty/Henry-E.-Smith/\n",
      "https://hls.harvard.edu/faculty/Holger-Spamann/\n",
      "https://hls.harvard.edu/faculty/Kathryn-E.-Spier/\n",
      "https://hls.harvard.edu/faculty/Carol-S.-Steiker/\n",
      "https://hls.harvard.edu/faculty/Nicholas-Stephanopoulos/\n",
      "https://hls.harvard.edu/faculty/Matthew-Stephenson/\n",
      "https://hls.harvard.edu/faculty/Kristen-A.-Stilt/\n",
      "https://hls.harvard.edu/faculty/Guhan-Subramanian/\n",
      "https://hls.harvard.edu/faculty/Ronald-S.-Sullivan/\n",
      "https://hls.harvard.edu/faculty/Cass-R.-Sunstein/\n",
      "https://hls.harvard.edu/faculty/Daniel-Tarullo/\n",
      "https://hls.harvard.edu/faculty/Rebecca-Tushnet/\n",
      "https://hls.harvard.edu/faculty/Dehlia-Umunna/\n",
      "https://hls.harvard.edu/faculty/Roberto-Mangabeira-Unger/\n",
      "https://hls.harvard.edu/faculty/Adrian-Vermeule/\n",
      "https://hls.harvard.edu/faculty/Rachel-Viscomi/\n",
      "https://hls.harvard.edu/faculty/Alvin-C.-Warren/\n",
      "https://hls.harvard.edu/faculty/Laura-Weinrib/\n",
      "https://hls.harvard.edu/faculty/Scott-A.-Westfahl/\n",
      "https://hls.harvard.edu/faculty/Lucie-E.-White/\n",
      "https://hls.harvard.edu/faculty/David-B.-Wilkins/\n",
      "https://hls.harvard.edu/faculty/Mark-Wu/\n",
      "https://hls.harvard.edu/faculty/Crystal-S.-Yang/\n",
      "https://hls.harvard.edu/faculty/Jonathan-L.-Zittrain/\n"
     ]
    }
   ],
   "source": [
    "#for prff in Final_prof_list:\n",
    "   # URL = \"https://hls.harvard.edu/faculty/\"+\"{}\".format(prff).replace(\" \", \"-\")+\"/\"\n",
    "   # Professor_data_1 = requests.get(URL).text\n",
    "   # soup = BeautifulSoup(Professor_data_1,\"html.parser\")\n",
    "   # name = soup.find_all('p', {\"class\" :\"contact__email\"})\n",
    "   # name"
   ]
  },
  {
   "cell_type": "code",
   "execution_count": 76,
   "id": "6256f7d6",
   "metadata": {},
   "outputs": [
    {
     "data": {
      "text/plain": [
       "115"
      ]
     },
     "execution_count": 76,
     "metadata": {},
     "output_type": "execute_result"
    }
   ],
   "source": [
    "listp = []\n",
    "empty = ['No Mail']\n",
    "for prff in Final_prof_list1:\n",
    "    URL = \"https://hls.harvard.edu/faculty/\"+\"{}\".format(prff).replace(\" \", \"-\").lower()+\"/\"\n",
    "    Professor_data_1 = requests.get(URL).text\n",
    "    soup = BeautifulSoup(Professor_data_1,\"html.parser\")\n",
    "    name = soup.find_all('p', {\"class\" :\"contact__email\"})\n",
    "    if len(name) >= 1:\n",
    "        listp.append(name[0].text)\n",
    "    else:\n",
    "        listp.extend(empty)\n",
    "len(listp)\n",
    "        "
   ]
  },
  {
   "cell_type": "code",
   "execution_count": 20,
   "id": "b8ffc937",
   "metadata": {},
   "outputs": [
    {
     "name": "stdout",
     "output_type": "stream",
     "text": [
      "https://hls.harvard.edu/faculty/John-Goldberg/\n"
     ]
    }
   ],
   "source": []
  },
  {
   "cell_type": "code",
   "execution_count": 78,
   "id": "36b78309",
   "metadata": {},
   "outputs": [
    {
     "data": {
      "text/html": [
       "<div>\n",
       "<style scoped>\n",
       "    .dataframe tbody tr th:only-of-type {\n",
       "        vertical-align: middle;\n",
       "    }\n",
       "\n",
       "    .dataframe tbody tr th {\n",
       "        vertical-align: top;\n",
       "    }\n",
       "\n",
       "    .dataframe thead th {\n",
       "        text-align: right;\n",
       "    }\n",
       "</style>\n",
       "<table border=\"1\" class=\"dataframe\">\n",
       "  <thead>\n",
       "    <tr style=\"text-align: right;\">\n",
       "      <th></th>\n",
       "      <th>0</th>\n",
       "    </tr>\n",
       "  </thead>\n",
       "  <tbody>\n",
       "    <tr>\n",
       "      <th>William P. Alford</th>\n",
       "      <td>alford@law.harvard.edu</td>\n",
       "    </tr>\n",
       "    <tr>\n",
       "      <th>Sabrineh Ardalan</th>\n",
       "      <td>sardalan@law.harvard.edu</td>\n",
       "    </tr>\n",
       "    <tr>\n",
       "      <th>Oren Bar-Gill</th>\n",
       "      <td>bargill@law.harvard.edu</td>\n",
       "    </tr>\n",
       "    <tr>\n",
       "      <th>Christopher T. Bavitz</th>\n",
       "      <td>cbavitz@law.harvard.edu</td>\n",
       "    </tr>\n",
       "    <tr>\n",
       "      <th>Lucian A. Bebchuk</th>\n",
       "      <td>bebchuk@law.harvard.edu</td>\n",
       "    </tr>\n",
       "    <tr>\n",
       "      <th>...</th>\n",
       "      <td>...</td>\n",
       "    </tr>\n",
       "    <tr>\n",
       "      <th>Lucie E. White</th>\n",
       "      <td>lwhite@law.harvard.edu</td>\n",
       "    </tr>\n",
       "    <tr>\n",
       "      <th>David B. Wilkins</th>\n",
       "      <td>dwilkins@law.harvard.edu</td>\n",
       "    </tr>\n",
       "    <tr>\n",
       "      <th>Mark Wu</th>\n",
       "      <td>mwu@law.harvard.edu</td>\n",
       "    </tr>\n",
       "    <tr>\n",
       "      <th>Crystal S. Yang</th>\n",
       "      <td>cyang@law.harvard.edu</td>\n",
       "    </tr>\n",
       "    <tr>\n",
       "      <th>Jonathan L. Zittrain</th>\n",
       "      <td>No Mail</td>\n",
       "    </tr>\n",
       "  </tbody>\n",
       "</table>\n",
       "<p>115 rows × 1 columns</p>\n",
       "</div>"
      ],
      "text/plain": [
       "                                              0\n",
       "William P. Alford        alford@law.harvard.edu\n",
       "Sabrineh Ardalan       sardalan@law.harvard.edu\n",
       "Oren Bar-Gill           bargill@law.harvard.edu\n",
       "Christopher T. Bavitz   cbavitz@law.harvard.edu\n",
       "Lucian A. Bebchuk       bebchuk@law.harvard.edu\n",
       "...                                         ...\n",
       "Lucie E. White           lwhite@law.harvard.edu\n",
       "David B. Wilkins       dwilkins@law.harvard.edu\n",
       "Mark Wu                     mwu@law.harvard.edu\n",
       "Crystal S. Yang           cyang@law.harvard.edu\n",
       "Jonathan L. Zittrain                    No Mail\n",
       "\n",
       "[115 rows x 1 columns]"
      ]
     },
     "execution_count": 78,
     "metadata": {},
     "output_type": "execute_result"
    }
   ],
   "source": [
    "dict= {}\n",
    "for i in range(0,115):\n",
    "    dict[Final_prof_list[i]] = listp[i]\n",
    "df1 = pd.DataFrame.from_dict(dict, orient= 'index')\n",
    "df1"
   ]
  },
  {
   "cell_type": "code",
   "execution_count": null,
   "id": "47d53987",
   "metadata": {},
   "outputs": [],
   "source": []
  }
 ],
 "metadata": {
  "kernelspec": {
   "display_name": "Python 3 (ipykernel)",
   "language": "python",
   "name": "python3"
  },
  "language_info": {
   "codemirror_mode": {
    "name": "ipython",
    "version": 3
   },
   "file_extension": ".py",
   "mimetype": "text/x-python",
   "name": "python",
   "nbconvert_exporter": "python",
   "pygments_lexer": "ipython3",
   "version": "3.10.5"
  }
 },
 "nbformat": 4,
 "nbformat_minor": 5
}
